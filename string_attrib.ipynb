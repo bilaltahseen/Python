{
 "cells": [
  {
   "cell_type": "code",
   "execution_count": 111,
   "metadata": {},
   "outputs": [],
   "source": [
    "l1=[1,2,3,4,5,6,7,8,9]"
   ]
  },
  {
   "cell_type": "code",
   "execution_count": 137,
   "metadata": {},
   "outputs": [
    {
     "name": "stdout",
     "output_type": "stream",
     "text": [
      "<method-wrapper '__add__' of list object at 0x0000006BF6ECBFC8>\n",
      "<class 'list'>\n",
      "<method-wrapper '__contains__' of list object at 0x0000006BF6ECBFC8>\n",
      "<method-wrapper '__delattr__' of list object at 0x0000006BF6ECBFC8>\n",
      "<method-wrapper '__delitem__' of list object at 0x0000006BF6ECBFC8>\n",
      "<built-in method __dir__ of list object at 0x0000006BF6ECBFC8>\n",
      "Built-in mutable sequence.\n",
      "\n",
      "If no argument is given, the constructor creates a new empty list.\n",
      "The argument must be an iterable if specified.\n",
      "<method-wrapper '__eq__' of list object at 0x0000006BF6ECBFC8>\n",
      "<built-in method __format__ of list object at 0x0000006BF6ECBFC8>\n",
      "<method-wrapper '__ge__' of list object at 0x0000006BF6ECBFC8>\n",
      "<method-wrapper '__getattribute__' of list object at 0x0000006BF6ECBFC8>\n",
      "<built-in method __getitem__ of list object at 0x0000006BF6ECBFC8>\n",
      "<method-wrapper '__gt__' of list object at 0x0000006BF6ECBFC8>\n",
      "None\n",
      "<method-wrapper '__iadd__' of list object at 0x0000006BF6ECBFC8>\n",
      "<method-wrapper '__imul__' of list object at 0x0000006BF6ECBFC8>\n",
      "<method-wrapper '__init__' of list object at 0x0000006BF6ECBFC8>\n",
      "<built-in method __init_subclass__ of type object at 0x00007FFA2CE73D30>\n",
      "<method-wrapper '__iter__' of list object at 0x0000006BF6ECBFC8>\n",
      "<method-wrapper '__le__' of list object at 0x0000006BF6ECBFC8>\n",
      "<method-wrapper '__len__' of list object at 0x0000006BF6ECBFC8>\n",
      "<method-wrapper '__lt__' of list object at 0x0000006BF6ECBFC8>\n",
      "<method-wrapper '__mul__' of list object at 0x0000006BF6ECBFC8>\n",
      "<method-wrapper '__ne__' of list object at 0x0000006BF6ECBFC8>\n",
      "<built-in method __new__ of type object at 0x00007FFA2CE73D30>\n",
      "<built-in method __reduce__ of list object at 0x0000006BF6ECBFC8>\n",
      "<built-in method __reduce_ex__ of list object at 0x0000006BF6ECBFC8>\n",
      "<method-wrapper '__repr__' of list object at 0x0000006BF6ECBFC8>\n",
      "<built-in method __reversed__ of list object at 0x0000006BF6ECBFC8>\n",
      "<method-wrapper '__rmul__' of list object at 0x0000006BF6ECBFC8>\n",
      "<method-wrapper '__setattr__' of list object at 0x0000006BF6ECBFC8>\n",
      "<method-wrapper '__setitem__' of list object at 0x0000006BF6ECBFC8>\n",
      "<built-in method __sizeof__ of list object at 0x0000006BF6ECBFC8>\n",
      "<method-wrapper '__str__' of list object at 0x0000006BF6ECBFC8>\n",
      "<built-in method __subclasshook__ of type object at 0x00007FFA2CE73D30>\n",
      "<built-in method append of list object at 0x0000006BF6ECBFC8>\n",
      "<built-in method clear of list object at 0x0000006BF6ECBFC8>\n",
      "<built-in method copy of list object at 0x0000006BF6ECBFC8>\n",
      "<built-in method count of list object at 0x0000006BF6ECBFC8>\n",
      "<built-in method extend of list object at 0x0000006BF6ECBFC8>\n",
      "<built-in method index of list object at 0x0000006BF6ECBFC8>\n",
      "<built-in method insert of list object at 0x0000006BF6ECBFC8>\n",
      "<built-in method pop of list object at 0x0000006BF6ECBFC8>\n",
      "<built-in method remove of list object at 0x0000006BF6ECBFC8>\n",
      "<built-in method reverse of list object at 0x0000006BF6ECBFC8>\n",
      "<built-in method sort of list object at 0x0000006BF6ECBFC8>\n"
     ]
    }
   ],
   "source": [
    "for x in range(0,len(dir(l1))):\n",
    "    s=(dir(l1)[x])\n",
    "    print(getattr(l1,s))\n"
   ]
  }
 ],
 "metadata": {
  "kernelspec": {
   "display_name": "Python 3",
   "language": "python",
   "name": "python3"
  },
  "language_info": {
   "codemirror_mode": {
    "name": "ipython",
    "version": 3
   },
   "file_extension": ".py",
   "mimetype": "text/x-python",
   "name": "python",
   "nbconvert_exporter": "python",
   "pygments_lexer": "ipython3",
   "version": "3.7.3"
  }
 },
 "nbformat": 4,
 "nbformat_minor": 2
}

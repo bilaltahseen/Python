{
 "cells": [
  {
   "cell_type": "markdown",
   "metadata": {},
   "source": [
    "# Admin Pannel Database Insert"
   ]
  },
  {
   "cell_type": "code",
   "execution_count": 2,
   "metadata": {
    "scrolled": true
   },
   "outputs": [
    {
     "name": "stdout",
     "output_type": "stream",
     "text": [
      "Enter NameBilal\n",
      "Enter ID48\n",
      "Enter NameAhsan\n",
      "Enter ID23\n",
      "Enter NameAmeen\n",
      "Enter ID43\n",
      "Enter Name-\n",
      "Enter ID-\n",
      "{'names': ['Bilal', 'Ahsan', 'Ameen'], 'id': ['48', '23', '43']}\n"
     ]
    }
   ],
   "source": [
    "names_list=[]\n",
    "id_list=[]\n",
    "data_base={'names':names_list,'id':id_list}\n",
    "inp_n=\"\"\n",
    "inp_id=\"\"\n",
    "while True:\n",
    "    inp_n=input(\"Enter Name\")\n",
    "    inp_id=input(\"Enter ID\")\n",
    "    if inp_n == \"-\" and inp_id == \"-\":\n",
    "        print(data_base)\n",
    "        break\n",
    "    else:\n",
    "        names_list.append(inp_n)\n",
    "        id_list.append(inp_id)\n"
   ]
  },
  {
   "cell_type": "markdown",
   "metadata": {},
   "source": [
    "# Login Form"
   ]
  },
  {
   "cell_type": "code",
   "execution_count": 11,
   "metadata": {},
   "outputs": [
    {
     "name": "stdout",
     "output_type": "stream",
     "text": [
      "Welcome To Login Form\n",
      "Enter Your nameBilal\n",
      "Enter Your id12\n",
      "Wrong User\n"
     ]
    }
   ],
   "source": [
    "while True:\n",
    "    print(\"Welcome To Login Form\")\n",
    "    inp_n_veri=input(\"Enter Your name\")\n",
    "    inp_id_veri=input(\"Enter Your id\")\n",
    "    if inp_n_veri == \"-\" and inp_id_veri == \"-\":\n",
    "        print(\"Thank You For Using\")\n",
    "        break\n",
    "    else:\n",
    "        for n,i in zip(data_base['names'],data_base['id']):\n",
    "            if n == inp_n_veri and i == inp_id_veri:\n",
    "                print(\"User Login\")\n",
    "                break\n",
    "            else:\n",
    "                print(\"Wrong User\")\n",
    "                break\n",
    "                       \n",
    "                \n",
    "                \n",
    "                \n",
    "    break\n",
    "                \n",
    "                \n",
    "       \n",
    "    \n",
    "        \n",
    "            "
   ]
  }
 ],
 "metadata": {
  "kernelspec": {
   "display_name": "Python 3",
   "language": "python",
   "name": "python3"
  },
  "language_info": {
   "codemirror_mode": {
    "name": "ipython",
    "version": 3
   },
   "file_extension": ".py",
   "mimetype": "text/x-python",
   "name": "python",
   "nbconvert_exporter": "python",
   "pygments_lexer": "ipython3",
   "version": "3.7.3"
  }
 },
 "nbformat": 4,
 "nbformat_minor": 2
}
